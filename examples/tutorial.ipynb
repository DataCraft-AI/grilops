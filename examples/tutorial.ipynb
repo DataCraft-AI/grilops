{
  "nbformat": 4,
  "nbformat_minor": 0,
  "metadata": {
    "colab": {
      "name": "irregular grid revised grilops tutorial.ipynb",
      "provenance": [],
      "collapsed_sections": [],
      "include_colab_link": true
    },
    "kernelspec": {
      "name": "python3",
      "display_name": "Python 3"
    }
  },
  "cells": [
    {
      "cell_type": "markdown",
      "metadata": {
        "colab_type": "text",
        "id": "view-in-github"
      },
      "source": [
        "<a href=\"https://colab.research.google.com/github/obijywk/grilops/blob/master/examples/tutorial.ipynb\" target=\"_parent\"><img src=\"https://colab.research.google.com/assets/colab-badge.svg\" alt=\"Open In Colab\"/></a>"
      ]
    },
    {
      "cell_type": "markdown",
      "metadata": {
        "colab_type": "text",
        "id": "0rCc6F-sMZAb"
      },
      "source": [
        "# grilops tutorial\n",
        "\n",
        "This notebook will step through how to solve some logic puzzles using grilops and z3."
      ]
    },
    {
      "cell_type": "markdown",
      "metadata": {
        "colab_type": "text",
        "id": "yvkt2aJRPWSI"
      },
      "source": [
        "## Setup\n",
        "\n",
        "First, we'll need to make sure the `grilops` package is installed. This will also install the `z3-solver` package if needed (as it is a dependency of `grilops`)."
      ]
    },
    {
      "cell_type": "code",
      "execution_count": 1,
      "metadata": {
        "colab": {
          "base_uri": "https://localhost:8080/",
          "height": 163
        },
        "colab_type": "code",
        "id": "C7EqWodrMEbv",
        "outputId": "ae12e38c-4b37-4c28-e1b9-159dfc1aa256"
      },
      "outputs": [
        {
          "name": "stdout",
          "output_type": "stream",
          "text": [
            "Collecting grilops\n",
            "  Downloading https://files.pythonhosted.org/packages/e0/1d/08c16351b506e7f19f195db1fe7ed31ab44542fc0656e0a3a9adfb715192/grilops-0.6.0-py3-none-any.whl\n",
            "Collecting z3-solver\n",
            "\u001b[?25l  Downloading https://files.pythonhosted.org/packages/a3/75/3a1d4c044082baf017e08df32c39974ec34fcfa068b6a7b0cd4bfbf1ccfb/z3_solver-4.8.7.0-py2.py3-none-manylinux1_x86_64.whl (19.3MB)\n",
            "\u001b[K     |████████████████████████████████| 19.3MB 83.9MB/s \n",
            "\u001b[?25hInstalling collected packages: z3-solver, grilops\n",
            "Successfully installed grilops-0.6.0 z3-solver-4.8.7.0\n"
          ]
        }
      ],
      "source": [
        "import sys\n",
        "!{sys.executable} -m pip install grilops"
      ]
    },
    {
      "cell_type": "markdown",
      "metadata": {
        "colab_type": "text",
        "id": "Ug_AxgUpNEaE"
      },
      "source": [
        "Next, we'll import the `grilops` module, the `grilops.Point` class, and everything from the `z3` module (some consider wildcard imports to be an [anti-pattern](https://docs.quantifiedcode.com/python-anti-patterns/maintainability/from_module_import_all_used.html) in Python, but doing this is convenient for the purposes of this tutorial)."
      ]
    },
    {
      "cell_type": "code",
      "execution_count": 0,
      "metadata": {
        "colab": {},
        "colab_type": "code",
        "id": "ip-KqDuLN-kO"
      },
      "outputs": [],
      "source": [
        "import grilops\n",
        "from grilopos.geometry import Point\n",
        "from z3 import *"
      ]
    },
    {
      "cell_type": "markdown",
      "metadata": {
        "colab_type": "text",
        "id": "uWj7Rim1OUlN"
      },
      "source": [
        "Now we can move on to solving some puzzles!"
      ]
    },
    {
      "cell_type": "markdown",
      "metadata": {
        "colab_type": "text",
        "id": "kHzv1IIFOZtt"
      },
      "source": [
        "## Sudoku\n",
        "\n",
        "[Sudoku](https://en.wikipedia.org/wiki/Sudoku) is a good puzzle to start with, because it's well-known, and is relatively simple to model.\n",
        "\n",
        "We'll start by creating a list of lists containing the pre-filled numbers given in the puzzle. We'll use the givens from the example puzzle from Wikipedia. We'll use a 0 to represent a cell for which we don't have a given value."
      ]
    },
    {
      "cell_type": "code",
      "execution_count": 0,
      "metadata": {
        "colab": {},
        "colab_type": "code",
        "id": "zc6hvxWYPGcW"
      },
      "outputs": [],
      "source": [
        "  givens = [\n",
        "    [5, 3, 0, 0, 7, 0, 0, 0, 0],\n",
        "    [6, 0, 0, 1, 9, 5, 0, 0, 0],\n",
        "    [0, 9, 8, 0, 0, 0, 0, 6, 0],\n",
        "    [8, 0, 0, 0, 6, 0, 0, 0, 3],\n",
        "    [4, 0, 0, 8, 0, 3, 0, 0, 1],\n",
        "    [7, 0, 0, 0, 2, 0, 0, 0, 6],\n",
        "    [0, 6, 0, 0, 0, 0, 2, 8, 0],\n",
        "    [0, 0, 0, 4, 1, 9, 0, 0, 5],\n",
        "    [0, 0, 0, 0, 8, 0, 0, 7, 9],\n",
        "  ]"
      ]
    },
    {
      "cell_type": "markdown",
      "metadata": {
        "colab_type": "text",
        "id": "TjHEfPZUP7nx"
      },
      "source": [
        "Now let's create a grilops `SymbolSet` to model the marks that we can fill into the grid (in this case, the digits 1 through 9), and a 9x9 grilops `SymbolGrid` to model the grid itself. See the grilops [Symbols](https://obijywk.github.io/grilops/symbols/) and [Grids](https://obijywk.github.io/grilops/grids/) documentation to learn more about these objects."
      ]
    },
    {
      "cell_type": "code",
      "execution_count": 0,
      "metadata": {
        "colab": {},
        "colab_type": "code",
        "id": "tF2EWWkGQYrh"
      },
      "outputs": [],
      "source": [
        "sym = grilops.make_number_range_symbol_set(1, 9)\n",
        "lattice = grilops.get_square_lattice(9)\n",
        "sg = grilops.SymbolGrid(lattice, sym)"
      ]
    },
    {
      "cell_type": "markdown",
      "metadata": {
        "colab_type": "text",
        "id": "yXU7J6lJQqti"
      },
      "source": [
        "Our next step will be to enter our given numbers into the grid. We'll do this by looping over all of the positions in the grid, and constraining the grid to contain the given number at that position whenever it is not 0."
      ]
    },
    {
      "cell_type": "code",
      "execution_count": 0,
      "metadata": {
        "colab": {},
        "colab_type": "code",
        "id": "-4PdcowGRFIj"
      },
      "outputs": [],
      "source": [
        "for y, x in lattice.points:\n",
        "  given = givens[y][x]\n",
        "  if given != 0:\n",
        "    sg.solver.add(sg.cell_is(Point(y, x), given))"
      ]
    },
    {
      "cell_type": "markdown",
      "metadata": {
        "colab_type": "text",
        "id": "7ViKi702RVP8"
      },
      "source": [
        "When the `SymbolGrid` was constructed, it created a z3 [`Solver`](https://z3prover.github.io/api/html/classz3py_1_1_solver.html) object, accessible via its `solver` attribute. We'll use this solver to add all of our puzzle-specific constraints, and ultimately to solve the puzzle.\n",
        "\n",
        "The `SymbolGrid.cell_is` method returns a constraint requiring that a cell at a given position in the grid contains a given symbol. Notice that the y (vertical) coordinate comes before the x (horizontal) coordinate; this matches the order we used to define our grid of givens, and is a convention used throughout grilops.\n",
        "\n",
        "Next, let's add the defining constraints of Sudoku: each row, column, and 3x3 subgrid may only contain each digit one time. We'll use the z3 `Distinct` operator to express this."
      ]
    },
    {
      "cell_type": "code",
      "execution_count": 0,
      "metadata": {
        "colab": {},
        "colab_type": "code",
        "id": "yZOylhh1USUy"
      },
      "outputs": [],
      "source": [
        "rows = [[sg.grid[Point(y, x)] for x in range(9)] for y in range(9)]\n",
        "for row in rows:\n",
        "  sg.solver.add(Distinct(*row))\n",
        "\n",
        "columns = [[sg.grid[Point(y, x)] for y in range(9)] for x in range(9)]\n",
        "for column in columns:\n",
        "  sg.solver.add(Distinct(*column))\n",
        "\n",
        "for subgrid_index in range(9):\n",
        "  top = (subgrid_index // 3) * 3\n",
        "  left = (subgrid_index % 3) * 3\n",
        "  cells = [sg.grid[Point(y, x)] for y in range(top, top + 3) for x in range(left, left + 3)]\n",
        "  sg.solver.add(Distinct(*cells))"
      ]
    },
    {
      "cell_type": "markdown",
      "metadata": {
        "colab_type": "text",
        "id": "HwvCshVRWNqP"
      },
      "source": [
        "Okay, we've added all of the constraints needed to model a Sudoku puzzle. Now let's try to solve it!"
      ]
    },
    {
      "cell_type": "code",
      "execution_count": 7,
      "metadata": {
        "colab": {
          "base_uri": "https://localhost:8080/",
          "height": 35
        },
        "colab_type": "code",
        "id": "ddHchSRgWdTA",
        "outputId": "0616edfe-4b31-4c02-dc53-5dda4c7ba87f"
      },
      "outputs": [
        {
          "data": {
            "text/plain": [
              "True"
            ]
          },
          "execution_count": 7,
          "metadata": {
            "tags": []
          },
          "output_type": "execute_result"
        }
      ],
      "source": [
        "sg.solve()"
      ]
    },
    {
      "cell_type": "markdown",
      "metadata": {
        "colab_type": "text",
        "id": "r_B0tVjPXh8h"
      },
      "source": [
        "`True` means we found a solution! Let's see what it is."
      ]
    },
    {
      "cell_type": "code",
      "execution_count": 8,
      "metadata": {
        "colab": {
          "base_uri": "https://localhost:8080/",
          "height": 179
        },
        "colab_type": "code",
        "id": "Bd6YIhcnWfJw",
        "outputId": "76cce04a-cc6e-419f-e689-6c6fdce44e1b"
      },
      "outputs": [
        {
          "name": "stdout",
          "output_type": "stream",
          "text": [
            "534678912\n",
            "672195348\n",
            "198342567\n",
            "859761423\n",
            "426853791\n",
            "713924856\n",
            "961537284\n",
            "287419635\n",
            "345286179\n"
          ]
        }
      ],
      "source": [
        "sg.print()"
      ]
    },
    {
      "cell_type": "markdown",
      "metadata": {
        "colab_type": "text",
        "id": "3vm7aOhSXw-5"
      },
      "source": [
        "Looks good!\n",
        "\n",
        "Let's check to see if there are any other possible solutions to this puzzle."
      ]
    },
    {
      "cell_type": "code",
      "execution_count": 9,
      "metadata": {
        "colab": {
          "base_uri": "https://localhost:8080/",
          "height": 35
        },
        "colab_type": "code",
        "id": "tmpMx7KAYGuq",
        "outputId": "94c91e8e-26a2-43ff-948b-3d4a0d899aa5"
      },
      "outputs": [
        {
          "data": {
            "text/plain": [
              "True"
            ]
          },
          "execution_count": 9,
          "metadata": {
            "tags": []
          },
          "output_type": "execute_result"
        }
      ],
      "source": [
        "sg.is_unique()"
      ]
    },
    {
      "cell_type": "markdown",
      "metadata": {
        "colab_type": "text",
        "id": "nWKChss4YK_r"
      },
      "source": [
        "This solution is unique. If it had turned out not to be unique (if there were an alternate solution) we could now call `sg.print()` again to see the alternate solution."
      ]
    },
    {
      "cell_type": "markdown",
      "metadata": {
        "colab_type": "text",
        "id": "KSO3ZrkvZSor"
      },
      "source": [
        "## Fillomino\n",
        "\n",
        "Let's try a [Fillomino](https://en.wikipedia.org/wiki/Fillomino) puzzle now. This example will demonstrate the use of the grilops [`RegionConstrainer`](https://obijywk.github.io/grilops/regions/) to divide the grid into orthogonally contiguous regions of cells (polyominoes).\n",
        "\n",
        "We'll start by creating a list of lists of the given region sizes, using 0 to indicate a cell that does not contain a given value."
      ]
    },
    {
      "cell_type": "code",
      "execution_count": 0,
      "metadata": {
        "colab": {},
        "colab_type": "code",
        "id": "COppMQDtaKai"
      },
      "outputs": [],
      "source": [
        "givens = [\n",
        "  [0, 0, 0, 3, 0, 0, 0, 0, 5],\n",
        "  [0, 0, 8, 3, 10, 0, 0, 5, 0],\n",
        "  [0, 3, 0, 0, 0, 4, 4, 0, 0],\n",
        "  [1, 3, 0, 3, 0, 0, 2, 0, 0],\n",
        "  [0, 2, 0, 0, 3, 0, 0, 2, 0],\n",
        "  [0, 0, 2, 0, 0, 3, 0, 1, 3],\n",
        "  [0, 0, 4, 4, 0, 0, 0, 3, 0],\n",
        "  [0, 4, 0, 0, 4, 3, 3, 0, 0],\n",
        "  [6, 0, 0, 0, 0, 1, 0, 0, 0],\n",
        "]"
      ]
    },
    {
      "cell_type": "markdown",
      "metadata": {
        "colab_type": "text",
        "id": "9GgG_EhbaanD"
      },
      "source": [
        "Now we'll create our SymbolSet and our SymbolGrid."
      ]
    },
    {
      "cell_type": "code",
      "execution_count": 0,
      "metadata": {
        "colab": {},
        "colab_type": "code",
        "id": "tHW5d5MFarJ8"
      },
      "outputs": [],
      "source": [
        "sym = grilops.make_number_range_symbol_set(1, 10)\n",
        "lattice = grilops.get_square_lattice(9)\n",
        "sg = grilops.SymbolGrid(lattice, sym)"
      ]
    },
    {
      "cell_type": "markdown",
      "metadata": {
        "colab_type": "text",
        "id": "C-SzjmCkasIL"
      },
      "source": [
        "Note that we're assuming that there will not be any region larger than 10 cells (the upper bound of our number range symbol set). We could make this upper bound arbitrarily large, but doing so might increase the search space, causing the solver to take longer to run.\n",
        "\n",
        "Now we'll introduce a `RegionConstrainer` set up to use the same solver as our `SymbolGrid`. We'll need to import the `grilops.regions` module to use this class."
      ]
    },
    {
      "cell_type": "code",
      "execution_count": 0,
      "metadata": {
        "colab": {},
        "colab_type": "code",
        "id": "pTk5zX98bg_U"
      },
      "outputs": [],
      "source": [
        "import grilops.regions\n",
        "rc = grilops.regions.RegionConstrainer(lattice, solver=sg.solver)"
      ]
    },
    {
      "cell_type": "markdown",
      "metadata": {
        "colab_type": "text",
        "id": "_YSNIW8fbp-V"
      },
      "source": [
        "Okay, now we can start adding the constraints that define the logic of the puzzle.\n",
        "\n",
        "First, we'll associate each symbol in the grid with the concept that its value represents: the size of the region to which the cell belongs. The `RegionConstrainer` provides us with a `region_size_grid` where each cell contains the size of that cell's region."
      ]
    },
    {
      "cell_type": "code",
      "execution_count": 0,
      "metadata": {
        "colab": {},
        "colab_type": "code",
        "id": "RaAFPROIcON-"
      },
      "outputs": [],
      "source": [
        "for pt in lattice.points:\n",
        "  sg.solver.add(sg.grid[pt] == rc.region_size_grid[pt])"
      ]
    },
    {
      "cell_type": "markdown",
      "metadata": {
        "colab_type": "text",
        "id": "Z90TNvg-c5CX"
      },
      "source": [
        "Next, we'll add a constraint for each of our givens ensuring that the size of the region matches the given's value."
      ]
    },
    {
      "cell_type": "code",
      "execution_count": 0,
      "metadata": {
        "colab": {},
        "colab_type": "code",
        "id": "Wd6oeeZ_dC-2"
      },
      "outputs": [],
      "source": [
        "for y, x in lattice.points:\n",
        "  given = givens[y][x]\n",
        "  if given != 0:\n",
        "    sg.solver.add(rc.region_size_grid[Point(y, x)] == given)"
      ]
    },
    {
      "cell_type": "markdown",
      "metadata": {
        "colab_type": "text",
        "id": "_ZrNCLckdOX-"
      },
      "source": [
        "Finally, Fillomino requires that \"no two polyominoes of matching size (number of cells) are orthogonally adjacent (share a side).\" To add this constraint, we'll consider the orthogonal neighbors of each cell (see the `edge_sharing_neighbors` function and `Neighbor` class from the grilops [`grids`](https://obijywk.github.io/grilops/grids/) module to learn more about how these are found). We'll ensure that if two orthogonally adjacent cells have the same region size, that they are also part of the same region. We'll implement the \"part of the same region\" constraint using the `region_id_grid` attribute of the `RegionConstrainer`; in this grid, each cell will contain a numeric identifier that is shared among all cells that are part of the same region."
      ]
    },
    {
      "cell_type": "code",
      "execution_count": 0,
      "metadata": {
        "colab": {},
        "colab_type": "code",
        "id": "G4wnzbhNeq2h"
      },
      "outputs": [],
      "source": [
        "for pt in lattice.points:\n",
        "  adjacent_sizes = grilops.edge_sharing_neighbors(rc.region_size_grid, pt)\n",
        "  adjacent_ids = grilops.edge_sharing_neighbors(rc.region_id_grid, pt)\n",
        "  for adjacent_size, adjacent_id in zip(adjacent_sizes, adjacent_ids):\n",
        "    sg.solver.add(\n",
        "        Implies(\n",
        "            rc.region_size_grid[pt] == adjacent_size.symbol,\n",
        "            rc.region_id_grid[pt] == adjacent_id.symbol\n",
        "        )\n",
        "    )"
      ]
    },
    {
      "cell_type": "markdown",
      "metadata": {
        "colab_type": "text",
        "id": "tr4ec779fgZy"
      },
      "source": [
        "And that's it! Time to solve."
      ]
    },
    {
      "cell_type": "code",
      "execution_count": 16,
      "metadata": {
        "colab": {
          "base_uri": "https://localhost:8080/",
          "height": 35
        },
        "colab_type": "code",
        "id": "H8dvx9Ujfhg6",
        "outputId": "68b84091-febf-4088-ac37-e6dd6b878e59"
      },
      "outputs": [
        {
          "data": {
            "text/plain": [
              "True"
            ]
          },
          "execution_count": 16,
          "metadata": {
            "tags": []
          },
          "output_type": "execute_result"
        }
      ],
      "source": [
        "sg.solve()"
      ]
    },
    {
      "cell_type": "code",
      "execution_count": 17,
      "metadata": {
        "colab": {
          "base_uri": "https://localhost:8080/",
          "height": 179
        },
        "colab_type": "code",
        "id": "7T0vdtqOfnR6",
        "outputId": "9c82ca70-8676-4aa2-974c-2c0fc57f86ea"
      },
      "outputs": [
        {
          "name": "stdout",
          "output_type": "stream",
          "text": [
            "8 8 3 3 101010105 \n",
            "8 8 8 3 1010105 5 \n",
            "3 3 8 10104 4 4 5 \n",
            "1 3 8 3 102 2 4 5 \n",
            "2 2 8 3 3 1 3 2 2 \n",
            "6 6 2 2 1 3 3 1 3 \n",
            "6 4 4 4 2 2 1 3 3 \n",
            "6 4 2 2 4 3 3 4 4 \n",
            "6 6 4 4 4 1 3 4 4 \n"
          ]
        }
      ],
      "source": [
        "sg.print()"
      ]
    },
    {
      "cell_type": "code",
      "execution_count": 18,
      "metadata": {
        "colab": {
          "base_uri": "https://localhost:8080/",
          "height": 35
        },
        "colab_type": "code",
        "id": "56PiYgb7fxUD",
        "outputId": "486dd86f-1516-477d-8058-9403c5c7cc67"
      },
      "outputs": [
        {
          "data": {
            "text/plain": [
              "True"
            ]
          },
          "execution_count": 18,
          "metadata": {
            "tags": []
          },
          "output_type": "execute_result"
        }
      ],
      "source": [
        "sg.is_unique()"
      ]
    },
    {
      "cell_type": "markdown",
      "metadata": {
        "colab_type": "text",
        "id": "QG5hxIJLLuod"
      },
      "source": [
        "## Akari\n",
        "\n",
        "Now let's try solving an [Akari](https://en.wikipedia.org/wiki/Light_Up_%28puzzle%29) puzzle (also known as Light Up). This example will demonstrate the use of the grilops [`sightlines`](https://obijywk.github.io/grilops/sightlines/) module to check conditions along straight lines through the grid.\n",
        "\n",
        "First, we'll encode the givens (the positions, and sometimes also the adjacent light bulb counts, of the black grid cells), using a Python dict. We'll use a value of `None` to indicate that a cell does not have an adjacent light bulb count constraint."
      ]
    },
    {
      "cell_type": "code",
      "execution_count": 0,
      "metadata": {
        "colab": {},
        "colab_type": "code",
        "id": "oYHY3HFtM3NQ"
      },
      "outputs": [],
      "source": [
        "givens = {\n",
        "  (0, 0): None,\n",
        "  (0, 3): None,\n",
        "  (0, 9): None,\n",
        "  (1, 7): None,\n",
        "  (2, 1): 3,\n",
        "  (2, 6): 0,\n",
        "  (3, 2): 2,\n",
        "  (3, 5): None,\n",
        "  (3, 9): 1,\n",
        "  (4, 3): 1,\n",
        "  (4, 4): 0,\n",
        "  (4, 5): None,\n",
        "  (5, 4): 1,\n",
        "  (5, 5): None,\n",
        "  (5, 6): None,\n",
        "  (6, 0): None,\n",
        "  (6, 4): 2,\n",
        "  (6, 7): 2,\n",
        "  (7, 3): None,\n",
        "  (7, 8): None,\n",
        "  (8, 2): 1,\n",
        "  (9, 0): 0,\n",
        "  (9, 6): 1,\n",
        "  (9, 9): 0,\n",
        "}"
      ]
    },
    {
      "cell_type": "markdown",
      "metadata": {
        "colab_type": "text",
        "id": "Ile80KI3NKJB"
      },
      "source": [
        "Next, we'll create the symbol set and the grid. We'll use three possible symbols in this grid: one to indicate a black cell, one to indicate an empty cell, and one to indicate a cell containing a light bulb. The `SymbolSet` constructor accepts a list of tuples, where the first element of each tuple contains a Python-safe attribute name for that symbol, and the second element of the tuple contains printable text used to represent that symbol in a grid printout."
      ]
    },
    {
      "cell_type": "code",
      "execution_count": 0,
      "metadata": {
        "colab": {},
        "colab_type": "code",
        "id": "-RZxaZ90NJEQ"
      },
      "outputs": [],
      "source": [
        "height, width = 10, 10\n",
        "sym = grilops.SymbolSet([\n",
        "  (\"BLACK\", \"#\"),\n",
        "  (\"EMPTY\", \" \"),\n",
        "  (\"LIGHT\", \"*\"),\n",
        "])\n",
        "lattice = grilops.get_rectangle_lattice(height, width)\n",
        "sg = grilops.SymbolGrid(lattice, sym)"
      ]
    },
    {
      "cell_type": "markdown",
      "metadata": {
        "colab_type": "text",
        "id": "KuLQEZ4UOAm6"
      },
      "source": [
        "Now we'll start adding some constraints. The first set of constraints we'll model will be for the givens: if a cell was given at all, we'll ensure it's black, and if the given has a numeric value, we'll ensure the cells adjacent to it contain exactly that many light bulbs. In addition, we know that all black cells were given, so if a cell was not given we must constrain it to not be black."
      ]
    },
    {
      "cell_type": "code",
      "execution_count": 0,
      "metadata": {
        "colab": {},
        "colab_type": "code",
        "id": "lXPaBxCwOYaS"
      },
      "outputs": [],
      "source": [
        "for pt in lattice.points:\n",
        "  if pt in givens:\n",
        "    sg.solver.add(sg.cell_is(pt, sym.BLACK))\n",
        "    light_bulb_count = givens[pt]\n",
        "    if light_bulb_count is not None:\n",
        "      sg.solver.add(light_bulb_count == sum(\n",
        "          If(n.symbol == sym.LIGHT, 1, 0) for n in sg.edge_sharing_neighbors(pt)\n",
        "      ))\n",
        "  else:\n",
        "    # All black cells are given; don't allow this cell to be black.\n",
        "    sg.solver.add(Not(sg.cell_is(pt, sym.BLACK)))"
      ]
    },
    {
      "cell_type": "markdown",
      "metadata": {
        "colab_type": "text",
        "id": "Cpvu8P-uQXFu"
      },
      "source": [
        "The next set of constraints we'll add will enforce the general rules of the puzzle: every white cell must be lit (by having at least one light bulb in its row or column that is not blocked by a black cell), and light bulbs may not be visible to each other (if they are in the same row or column, there must be a black cell between them).\n",
        "\n",
        "We'll use the `count_cells` function of the grilops [`sightlines`](https://obijywk.github.io/grilops/sightlines/) module to create these constraints. This function accepts as arguments a starting position in the grid, a direction to travel, and counting and stopping conditions for its travel, and returns the number of cells counted along the way.\n",
        "\n",
        "We'll configure the counting condition to count the number of light bulbs encountered, and the stopping condition to become true when we reach a black cell. This will allow us to count the number of light bulbs visible in any direction from each cell, which we'll then use to set up both of the puzzle rule constraints mentioned above."
      ]
    },
    {
      "cell_type": "code",
      "execution_count": 0,
      "metadata": {
        "colab": {},
        "colab_type": "code",
        "id": "48EAb0EOSIoo"
      },
      "outputs": [],
      "source": [
        "import grilops.sightlines\n",
        "\n",
        "def is_black(c):\n",
        "  return c == sym.BLACK\n",
        "\n",
        "def count_light(c):\n",
        "  return If(c == sym.LIGHT, 1, 0)\n",
        "\n",
        "for pt in lattice.points:\n",
        "  # Only add these visible light constraints for non-black cells.\n",
        "  if pt in givens:\n",
        "    continue\n",
        "  \n",
        "  # For each cell adjacent to this one, count the visible cells in that\n",
        "  # direction that contain light bulbs, then sum up all of these counts to\n",
        "  # get the total number of visible light bulbs.\n",
        "  visible_light_bulb_count = sum(\n",
        "      grilops.sightlines.count_cells(\n",
        "          sg, n.location, n.direction, stop=is_black, count=count_light\n",
        "      ) for n in sg.edge_sharing_neighbors(pt)\n",
        "  )\n",
        "  \n",
        "  # If this cell contains a light bulb, then ensure that it cannot see any\n",
        "  # other cells that contain light bulbs. If this cell does not contain a\n",
        "  # light bulb, then ensure that it is lit by ensuring that it can see at\n",
        "  # least one light bulb.\n",
        "  sg.solver.add(\n",
        "    If(\n",
        "        sg.cell_is(pt, sym.LIGHT),\n",
        "        visible_light_bulb_count == 0,\n",
        "        visible_light_bulb_count > 0\n",
        "    )\n",
        "  )"
      ]
    },
    {
      "cell_type": "markdown",
      "metadata": {
        "colab_type": "text",
        "id": "KC_aOMv5Te_O"
      },
      "source": [
        "Those are all the constraints we need. Time to solve the puzzle."
      ]
    },
    {
      "cell_type": "code",
      "execution_count": 23,
      "metadata": {
        "colab": {
          "base_uri": "https://localhost:8080/",
          "height": 35
        },
        "colab_type": "code",
        "id": "gRf_OuKWTkSJ",
        "outputId": "aa33e23b-77e8-47c0-a8ec-79a3c16a0af4"
      },
      "outputs": [
        {
          "data": {
            "text/plain": [
              "True"
            ]
          },
          "execution_count": 23,
          "metadata": {
            "tags": []
          },
          "output_type": "execute_result"
        }
      ],
      "source": [
        "sg.solve()"
      ]
    },
    {
      "cell_type": "code",
      "execution_count": 24,
      "metadata": {
        "colab": {
          "base_uri": "https://localhost:8080/",
          "height": 197
        },
        "colab_type": "code",
        "id": "0brJza-NTopq",
        "outputId": "65c80c60-47f4-4f9b-a8ff-0094348a8ea5"
      },
      "outputs": [
        {
          "name": "stdout",
          "output_type": "stream",
          "text": [
            "#* #*    #\n",
            "   *   #  \n",
            "*#*   #  *\n",
            " *#  #   #\n",
            "   ###*   \n",
            "   *###*  \n",
            "# * #* #* \n",
            "*  #*   #*\n",
            "  #     * \n",
            "# *   #* #\n"
          ]
        }
      ],
      "source": [
        "sg.print()"
      ]
    },
    {
      "cell_type": "code",
      "execution_count": 25,
      "metadata": {
        "colab": {
          "base_uri": "https://localhost:8080/",
          "height": 35
        },
        "colab_type": "code",
        "id": "Vt3WZfEQTqlM",
        "outputId": "5e4e20b7-fc92-410d-a68d-5d78c438ab25"
      },
      "outputs": [
        {
          "data": {
            "text/plain": [
              "True"
            ]
          },
          "execution_count": 25,
          "metadata": {
            "tags": []
          },
          "output_type": "execute_result"
        }
      ],
      "source": [
        "sg.is_unique()"
      ]
    },
    {
      "cell_type": "markdown",
      "metadata": {
        "colab_type": "text",
        "id": "6TDVP1XiUOmK"
      },
      "source": [
        "## More Examples\n",
        "\n",
        "The examples in this notebook are just a starting point. See the grilops [examples directory](https://github.com/obijywk/grilops/tree/master/examples) for standalone versions of these examples, as well as programs to solve many more types of puzzles."
      ]
    }
  ]
}