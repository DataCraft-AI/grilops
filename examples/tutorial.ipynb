{
  "nbformat": 4,
  "nbformat_minor": 0,
  "metadata": {
    "colab": {
      "name": "grilops tutorial.ipynb",
      "version": "0.3.2",
      "provenance": [],
      "collapsed_sections": [],
      "include_colab_link": true
    },
    "kernelspec": {
      "name": "python3",
      "display_name": "Python 3"
    }
  },
  "cells": [
    {
      "cell_type": "markdown",
      "metadata": {
        "id": "view-in-github",
        "colab_type": "text"
      },
      "source": [
        "<a href=\"https://colab.research.google.com/github/obijywk/grilops/blob/master/examples/tutorial.ipynb\" target=\"_parent\"><img src=\"https://colab.research.google.com/assets/colab-badge.svg\" alt=\"Open In Colab\"/></a>"
      ]
    },
    {
      "cell_type": "markdown",
      "metadata": {
        "id": "0rCc6F-sMZAb",
        "colab_type": "text"
      },
      "source": [
        "# grilops tutorial\n",
        "\n",
        "This notebook will step through how to solve some logic puzzles using grilops and z3."
      ]
    },
    {
      "cell_type": "markdown",
      "metadata": {
        "id": "yvkt2aJRPWSI",
        "colab_type": "text"
      },
      "source": [
        "## Setup\n",
        "\n",
        "First, we'll need to make sure the `grilops` package is installed. This will also install the `z3-solver` package if needed (as it is a dependency of `grilops`)."
      ]
    },
    {
      "cell_type": "code",
      "metadata": {
        "id": "C7EqWodrMEbv",
        "colab_type": "code",
        "outputId": "9fcbda21-9864-45fc-a532-a01f6f2665ec",
        "colab": {
          "base_uri": "https://localhost:8080/",
          "height": 163
        }
      },
      "source": [
        "import sys\n",
        "!{sys.executable} -m pip install grilops"
      ],
      "execution_count": 1,
      "outputs": [
        {
          "output_type": "stream",
          "text": [
            "Collecting grilops\n",
            "  Downloading https://files.pythonhosted.org/packages/36/27/35f6cf1a3aa9a236157c32c8dfd7b2e4630706f9a75ff04f0f892eb65c01/grilops-0.1.6-py3-none-any.whl\n",
            "Collecting z3-solver (from grilops)\n",
            "\u001b[?25l  Downloading https://files.pythonhosted.org/packages/73/ed/faeba7188a4316727d351e36bf0bb342335028308bcd168c8c740dfb2009/z3_solver-4.8.5.0-py2.py3-none-manylinux1_x86_64.whl (19.1MB)\n",
            "\u001b[K     |████████████████████████████████| 19.1MB 4.1MB/s \n",
            "\u001b[?25hInstalling collected packages: z3-solver, grilops\n",
            "Successfully installed grilops-0.1.6 z3-solver-4.8.5.0\n"
          ],
          "name": "stdout"
        }
      ]
    },
    {
      "cell_type": "markdown",
      "metadata": {
        "id": "Ug_AxgUpNEaE",
        "colab_type": "text"
      },
      "source": [
        "Next, we'll import the `grilops` module, and everything from the `z3` module (some consider wildcard imports to be an [anti-pattern](https://docs.quantifiedcode.com/python-anti-patterns/maintainability/from_module_import_all_used.html) in Python, but doing this is convenient for the purposes of this tutorial)."
      ]
    },
    {
      "cell_type": "code",
      "metadata": {
        "id": "ip-KqDuLN-kO",
        "colab_type": "code",
        "colab": {}
      },
      "source": [
        "import grilops\n",
        "from z3 import *"
      ],
      "execution_count": 0,
      "outputs": []
    },
    {
      "cell_type": "markdown",
      "metadata": {
        "id": "uWj7Rim1OUlN",
        "colab_type": "text"
      },
      "source": [
        "Now we can move on to solving some puzzles!"
      ]
    },
    {
      "cell_type": "markdown",
      "metadata": {
        "id": "kHzv1IIFOZtt",
        "colab_type": "text"
      },
      "source": [
        "## Sudoku\n",
        "\n",
        "[Sudoku](https://en.wikipedia.org/wiki/Sudoku) is a good puzzle to start with, because it's well-known, and is relatively simple to model.\n",
        "\n",
        "We'll start by creating a list of lists containing the pre-filled numbers given in the puzzle. We'll use the givens from the example puzzle from Wikipedia. We'll use a 0 to represent a cell for which we don't have a given value."
      ]
    },
    {
      "cell_type": "code",
      "metadata": {
        "id": "zc6hvxWYPGcW",
        "colab_type": "code",
        "colab": {}
      },
      "source": [
        "  givens = [\n",
        "    [5, 3, 0, 0, 7, 0, 0, 0, 0],\n",
        "    [6, 0, 0, 1, 9, 5, 0, 0, 0],\n",
        "    [0, 9, 8, 0, 0, 0, 0, 6, 0],\n",
        "    [8, 0, 0, 0, 6, 0, 0, 0, 3],\n",
        "    [4, 0, 0, 8, 0, 3, 0, 0, 1],\n",
        "    [7, 0, 0, 0, 2, 0, 0, 0, 6],\n",
        "    [0, 6, 0, 0, 0, 0, 2, 8, 0],\n",
        "    [0, 0, 0, 4, 1, 9, 0, 0, 5],\n",
        "    [0, 0, 0, 0, 8, 0, 0, 7, 9],\n",
        "  ]"
      ],
      "execution_count": 0,
      "outputs": []
    },
    {
      "cell_type": "markdown",
      "metadata": {
        "id": "TjHEfPZUP7nx",
        "colab_type": "text"
      },
      "source": [
        "Now let's create a grilops `SymbolSet` to model the marks that we can fill into the grid (in this case, the digits 1 through 9), and a 9x9 grilops `SymbolGrid` to model the grid itself. See the grilops [Symbols](https://obijywk.github.io/grilops/symbols/) and [Grids](https://obijywk.github.io/grilops/grids/) documentation to learn more about these objects."
      ]
    },
    {
      "cell_type": "code",
      "metadata": {
        "id": "tF2EWWkGQYrh",
        "colab_type": "code",
        "colab": {}
      },
      "source": [
        "sym = grilops.make_number_range_symbol_set(1, 9)\n",
        "sg = grilops.SymbolGrid(9, 9, sym)"
      ],
      "execution_count": 0,
      "outputs": []
    },
    {
      "cell_type": "markdown",
      "metadata": {
        "id": "yXU7J6lJQqti",
        "colab_type": "text"
      },
      "source": [
        "Our next step will be to enter our given numbers into the grid. We'll do this by looping over all of the positions in the grid, and constraining the grid to contain the given number at that position whenever it is not 0."
      ]
    },
    {
      "cell_type": "code",
      "metadata": {
        "id": "-4PdcowGRFIj",
        "colab_type": "code",
        "colab": {}
      },
      "source": [
        "for y in range(9):\n",
        "  for x in range(9):\n",
        "    given = givens[y][x]\n",
        "    if given != 0:\n",
        "      sg.solver.add(sg.cell_is(y, x, given))"
      ],
      "execution_count": 0,
      "outputs": []
    },
    {
      "cell_type": "markdown",
      "metadata": {
        "id": "7ViKi702RVP8",
        "colab_type": "text"
      },
      "source": [
        "When the `SymbolGrid` was constructed, it created a z3 [`Solver`](https://z3prover.github.io/api/html/classz3py_1_1_solver.html) object, accessible via its `solver` attribute. We'll use this solver to add all of our puzzle-specific constraints, and ultimately to solve the puzzle.\n",
        "\n",
        "The `SymbolGrid.cell_is` method returns a constraint requiring that a cell at a given position in the grid contains a given symbol. Notice that the y (vertical) coordinate comes before the x (horizontal) coordinate; this matches the order we used to define our grid of givens, and is a convention used throughout grilops.\n",
        "\n",
        "Next, let's add the defining constraints of Sudoku: each row, column, and 3x3 subgrid may only contain each digit one time. We'll use the z3 `Distinct` operator to express this."
      ]
    },
    {
      "cell_type": "code",
      "metadata": {
        "id": "yZOylhh1USUy",
        "colab_type": "code",
        "colab": {}
      },
      "source": [
        "rows = sg.grid\n",
        "for row in rows:\n",
        "  sg.solver.add(Distinct(*row))\n",
        "\n",
        "columns = [[sg.grid[y][x] for y in range(9)] for x in range(9)]\n",
        "for column in columns:\n",
        "  sg.solver.add(Distinct(*column))\n",
        "\n",
        "for subgrid_index in range(9):\n",
        "  top = (subgrid_index // 3) * 3\n",
        "  left = (subgrid_index % 3) * 3\n",
        "  cells = [sg.grid[y][x] for y in range(top, top + 3) for x in range(left, left + 3)]\n",
        "  sg.solver.add(Distinct(*cells))"
      ],
      "execution_count": 0,
      "outputs": []
    },
    {
      "cell_type": "markdown",
      "metadata": {
        "id": "HwvCshVRWNqP",
        "colab_type": "text"
      },
      "source": [
        "Okay, we've added all of the constraints needed to model a Sudoku puzzle. Now let's try to solve it!"
      ]
    },
    {
      "cell_type": "code",
      "metadata": {
        "id": "ddHchSRgWdTA",
        "colab_type": "code",
        "outputId": "782ec65f-111b-47e0-95a8-83b6c857c274",
        "colab": {
          "base_uri": "https://localhost:8080/",
          "height": 35
        }
      },
      "source": [
        "sg.solve()"
      ],
      "execution_count": 7,
      "outputs": [
        {
          "output_type": "execute_result",
          "data": {
            "text/plain": [
              "True"
            ]
          },
          "metadata": {
            "tags": []
          },
          "execution_count": 7
        }
      ]
    },
    {
      "cell_type": "markdown",
      "metadata": {
        "id": "r_B0tVjPXh8h",
        "colab_type": "text"
      },
      "source": [
        "`True` means we found a solution! Let's see what it is."
      ]
    },
    {
      "cell_type": "code",
      "metadata": {
        "id": "Bd6YIhcnWfJw",
        "colab_type": "code",
        "outputId": "65e90d31-a21b-47c0-dba9-609c1e4e9b83",
        "colab": {
          "base_uri": "https://localhost:8080/",
          "height": 179
        }
      },
      "source": [
        "sg.print()"
      ],
      "execution_count": 8,
      "outputs": [
        {
          "output_type": "stream",
          "text": [
            "534678912\n",
            "672195348\n",
            "198342567\n",
            "859761423\n",
            "426853791\n",
            "713924856\n",
            "961537284\n",
            "287419635\n",
            "345286179\n"
          ],
          "name": "stdout"
        }
      ]
    },
    {
      "cell_type": "markdown",
      "metadata": {
        "id": "3vm7aOhSXw-5",
        "colab_type": "text"
      },
      "source": [
        "Looks good!\n",
        "\n",
        "Let's check to see if there are any other possible solutions to this puzzle."
      ]
    },
    {
      "cell_type": "code",
      "metadata": {
        "id": "tmpMx7KAYGuq",
        "colab_type": "code",
        "outputId": "3f605e20-a7aa-464b-8b67-a53eea9e62bb",
        "colab": {
          "base_uri": "https://localhost:8080/",
          "height": 35
        }
      },
      "source": [
        "sg.is_unique()"
      ],
      "execution_count": 9,
      "outputs": [
        {
          "output_type": "execute_result",
          "data": {
            "text/plain": [
              "True"
            ]
          },
          "metadata": {
            "tags": []
          },
          "execution_count": 9
        }
      ]
    },
    {
      "cell_type": "markdown",
      "metadata": {
        "id": "nWKChss4YK_r",
        "colab_type": "text"
      },
      "source": [
        "This solution is unique. If it had turned out not to be unique (if there were an alternate solution) we could now call `sg.print()` again to see the alternate solution."
      ]
    },
    {
      "cell_type": "markdown",
      "metadata": {
        "id": "KSO3ZrkvZSor",
        "colab_type": "text"
      },
      "source": [
        "## Fillomino\n",
        "\n",
        "Let's try a [Fillomino](https://en.wikipedia.org/wiki/Fillomino) puzzle now. This example will demonstrate the use of the grilops [`RegionConstrainer`](https://obijywk.github.io/grilops/regions/) to divide the grid into orthogonally contiguous regions of cells (polyominoes).\n",
        "\n",
        "We'll start by creating a list of lists of the given region sizes, using 0 to indicate a cell that does not contain a given value."
      ]
    },
    {
      "cell_type": "code",
      "metadata": {
        "id": "COppMQDtaKai",
        "colab_type": "code",
        "colab": {}
      },
      "source": [
        "givens = [\n",
        "  [0, 0, 0, 3, 0, 0, 0, 0, 5],\n",
        "  [0, 0, 8, 3, 10, 0, 0, 5, 0],\n",
        "  [0, 3, 0, 0, 0, 4, 4, 0, 0],\n",
        "  [1, 3, 0, 3, 0, 0, 2, 0, 0],\n",
        "  [0, 2, 0, 0, 3, 0, 0, 2, 0],\n",
        "  [0, 0, 2, 0, 0, 3, 0, 1, 3],\n",
        "  [0, 0, 4, 4, 0, 0, 0, 3, 0],\n",
        "  [0, 4, 0, 0, 4, 3, 3, 0, 0],\n",
        "  [6, 0, 0, 0, 0, 1, 0, 0, 0],\n",
        "]"
      ],
      "execution_count": 0,
      "outputs": []
    },
    {
      "cell_type": "markdown",
      "metadata": {
        "id": "9GgG_EhbaanD",
        "colab_type": "text"
      },
      "source": [
        "Now we'll create our SymbolSet and our SymbolGrid."
      ]
    },
    {
      "cell_type": "code",
      "metadata": {
        "id": "tHW5d5MFarJ8",
        "colab_type": "code",
        "colab": {}
      },
      "source": [
        "sym = grilops.make_number_range_symbol_set(1, 10)\n",
        "sg = grilops.SymbolGrid(9, 9, sym)"
      ],
      "execution_count": 0,
      "outputs": []
    },
    {
      "cell_type": "markdown",
      "metadata": {
        "id": "C-SzjmCkasIL",
        "colab_type": "text"
      },
      "source": [
        "Note that we're assuming that there will not be any region larger than 10 cells (the upper bound of our number range symbol set). We could make this upper bound arbitrarily large, but doing so might increase the search space, causing the solver to take longer to run.\n",
        "\n",
        "Now we'll introduce a `RegionConstrainer` set up to use the same solver as our `SymbolGrid`. We'll need to import the `grilops.regions` module to use this class."
      ]
    },
    {
      "cell_type": "code",
      "metadata": {
        "id": "pTk5zX98bg_U",
        "colab_type": "code",
        "colab": {}
      },
      "source": [
        "import grilops.regions\n",
        "rc = grilops.regions.RegionConstrainer(9, 9, solver=sg.solver)"
      ],
      "execution_count": 0,
      "outputs": []
    },
    {
      "cell_type": "markdown",
      "metadata": {
        "id": "_YSNIW8fbp-V",
        "colab_type": "text"
      },
      "source": [
        "Okay, now we can start adding the constraints that define the logic of the puzzle.\n",
        "\n",
        "First, we'll associate each symbol in the grid with the concept that its value represents: the size of the region to which the cell belongs. The `RegionConstrainer` provides us with a `region_size_grid` where each cell contains the size of that cell's region."
      ]
    },
    {
      "cell_type": "code",
      "metadata": {
        "id": "RaAFPROIcON-",
        "colab_type": "code",
        "colab": {}
      },
      "source": [
        "for y in range(9):\n",
        "  for x in range(9):\n",
        "    sg.solver.add(sg.grid[y][x] == rc.region_size_grid[y][x])"
      ],
      "execution_count": 0,
      "outputs": []
    },
    {
      "cell_type": "markdown",
      "metadata": {
        "id": "Z90TNvg-c5CX",
        "colab_type": "text"
      },
      "source": [
        "Next, we'll add a constraint for each of our givens ensuring that the size of the region matches the given's value."
      ]
    },
    {
      "cell_type": "code",
      "metadata": {
        "id": "Wd6oeeZ_dC-2",
        "colab_type": "code",
        "colab": {}
      },
      "source": [
        "for y in range(9):\n",
        "  for x in range(9):\n",
        "    given = givens[y][x]\n",
        "    if given != 0:\n",
        "      sg.solver.add(rc.region_size_grid[y][x] == given)"
      ],
      "execution_count": 0,
      "outputs": []
    },
    {
      "cell_type": "markdown",
      "metadata": {
        "id": "_ZrNCLckdOX-",
        "colab_type": "text"
      },
      "source": [
        "Finally, Fillomino requires that \"no two polyominoes of matching size (number of cells) are orthogonally adjacent (share a side).\" To add this constraint, we'll consider the orthogonal neighbors of each cell, and ensure that if two orthogonally adjacent cells have the same region size, that they are also part of the same region. We'll implement the \"part of the same region\" constraint using the `region_id_grid` attribute of the `RegionConstrainer`; in this grid, each cell will contain a numeric identifier that is shared among all cells that are part of the same region."
      ]
    },
    {
      "cell_type": "code",
      "metadata": {
        "id": "G4wnzbhNeq2h",
        "colab_type": "code",
        "colab": {}
      },
      "source": [
        "for y in range(9):\n",
        "  for x in range(9):\n",
        "    adjacent_sizes = grilops.adjacent_cells(rc.region_size_grid, y, x)\n",
        "    adjacent_ids = grilops.adjacent_cells(rc.region_id_grid, y, x)\n",
        "    for adjacent_size, adjacent_id in zip(adjacent_sizes, adjacent_ids):\n",
        "      sg.solver.add(\n",
        "          Implies(\n",
        "              rc.region_size_grid[y][x] == adjacent_size,\n",
        "              rc.region_id_grid[y][x] == adjacent_id\n",
        "          )\n",
        "      )"
      ],
      "execution_count": 0,
      "outputs": []
    },
    {
      "cell_type": "markdown",
      "metadata": {
        "id": "tr4ec779fgZy",
        "colab_type": "text"
      },
      "source": [
        "And that's it! Time to solve."
      ]
    },
    {
      "cell_type": "code",
      "metadata": {
        "id": "H8dvx9Ujfhg6",
        "colab_type": "code",
        "outputId": "4bcf9311-bd44-4781-9795-a7677e4d46a9",
        "colab": {
          "base_uri": "https://localhost:8080/",
          "height": 35
        }
      },
      "source": [
        "sg.solve()"
      ],
      "execution_count": 16,
      "outputs": [
        {
          "output_type": "execute_result",
          "data": {
            "text/plain": [
              "True"
            ]
          },
          "metadata": {
            "tags": []
          },
          "execution_count": 16
        }
      ]
    },
    {
      "cell_type": "code",
      "metadata": {
        "id": "7T0vdtqOfnR6",
        "colab_type": "code",
        "outputId": "91c6cf1d-8adf-4649-c4b3-938793cdb9ec",
        "colab": {
          "base_uri": "https://localhost:8080/",
          "height": 179
        }
      },
      "source": [
        "sg.print()"
      ],
      "execution_count": 17,
      "outputs": [
        {
          "output_type": "stream",
          "text": [
            "8 8 3 3 101010105 \n",
            "8 8 8 3 1010105 5 \n",
            "3 3 8 10104 4 4 5 \n",
            "1 3 8 3 102 2 4 5 \n",
            "2 2 8 3 3 1 3 2 2 \n",
            "6 6 2 2 1 3 3 1 3 \n",
            "6 4 4 4 2 2 1 3 3 \n",
            "6 4 2 2 4 3 3 4 4 \n",
            "6 6 4 4 4 1 3 4 4 \n"
          ],
          "name": "stdout"
        }
      ]
    },
    {
      "cell_type": "code",
      "metadata": {
        "id": "56PiYgb7fxUD",
        "colab_type": "code",
        "outputId": "9c11667b-d8d1-4f59-a668-7a1688bdeb24",
        "colab": {
          "base_uri": "https://localhost:8080/",
          "height": 35
        }
      },
      "source": [
        "sg.is_unique()"
      ],
      "execution_count": 18,
      "outputs": [
        {
          "output_type": "execute_result",
          "data": {
            "text/plain": [
              "True"
            ]
          },
          "metadata": {
            "tags": []
          },
          "execution_count": 18
        }
      ]
    }
  ]
}